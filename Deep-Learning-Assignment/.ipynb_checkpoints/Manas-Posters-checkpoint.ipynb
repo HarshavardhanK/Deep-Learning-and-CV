{
 "cells": [
  {
   "cell_type": "code",
   "execution_count": 1,
   "metadata": {
    "collapsed": true
   },
   "outputs": [],
   "source": [
    "import matplotlib.pyplot as plt\n",
    "import scipy.misc as scpm\n",
    "import pandas as pd\n",
    "import glob\n",
    "import numpy as np\n",
    "import shelve\n",
    "\n",
    "%matplotlib inline"
   ]
  },
  {
   "cell_type": "code",
   "execution_count": 118,
   "metadata": {
    "collapsed": true
   },
   "outputs": [],
   "source": [
    "import cv2\n",
    "import os"
   ]
  },
  {
   "cell_type": "code",
   "execution_count": 3,
   "metadata": {
    "collapsed": false
   },
   "outputs": [
    {
     "name": "stderr",
     "output_type": "stream",
     "text": [
      "Using TensorFlow backend.\n",
      "//anaconda/lib/python3.5/importlib/_bootstrap.py:222: RuntimeWarning: compiletime version 3.6 of module 'tensorflow.python.framework.fast_tensor_util' does not match runtime version 3.5\n",
      "  return f(*args, **kwds)\n"
     ]
    }
   ],
   "source": [
    "import keras\n",
    "from keras.models import Sequential\n",
    "from keras.layers import Dropout, Flatten, Dense\n",
    "from keras.layers import Conv2D, BatchNormalization, MaxPooling2D\n",
    "from keras.preprocessing.image import ImageDataGenerator\n",
    "\n",
    "from sklearn.model_selection import train_test_split"
   ]
  },
  {
   "cell_type": "markdown",
   "metadata": {},
   "source": [
    "Action - 715\n",
    "SciFi - 267\n",
    "Drama - 1767\n",
    "Romance - 447"
   ]
  },
  {
   "cell_type": "code",
   "execution_count": 281,
   "metadata": {
    "collapsed": true
   },
   "outputs": [],
   "source": [
    "movie_csv_path = \"/Volumes/TSARSHAH/Datasets/Manas/Movie-Posters/movie_poster.csv\"\n",
    "posters_path = \"/Users/HarshavardhanK/Desktop/Media/posters\""
   ]
  },
  {
   "cell_type": "code",
   "execution_count": null,
   "metadata": {
    "collapsed": true
   },
   "outputs": [],
   "source": []
  },
  {
   "cell_type": "code",
   "execution_count": null,
   "metadata": {
    "collapsed": true
   },
   "outputs": [],
   "source": []
  },
  {
   "cell_type": "code",
   "execution_count": 5,
   "metadata": {
    "collapsed": false
   },
   "outputs": [
    {
     "data": {
      "text/html": [
       "<div>\n",
       "<table border=\"1\" class=\"dataframe\">\n",
       "  <thead>\n",
       "    <tr style=\"text-align: right;\">\n",
       "      <th></th>\n",
       "      <th>tid</th>\n",
       "      <th>title</th>\n",
       "      <th>url</th>\n",
       "      <th>image_url</th>\n",
       "      <th>year</th>\n",
       "      <th>action</th>\n",
       "      <th>scifi</th>\n",
       "      <th>drama</th>\n",
       "      <th>romance</th>\n",
       "    </tr>\n",
       "  </thead>\n",
       "  <tbody>\n",
       "    <tr>\n",
       "      <th>0</th>\n",
       "      <td>tt0120737</td>\n",
       "      <td>The Lord of the Rings: The Fellowship of the R...</td>\n",
       "      <td>http://www.imdb.com/title/tt0120737/</td>\n",
       "      <td>https://m.media-amazon.com/images/M/MV5BN2EyZj...</td>\n",
       "      <td>2001</td>\n",
       "      <td>True</td>\n",
       "      <td>False</td>\n",
       "      <td>False</td>\n",
       "      <td>False</td>\n",
       "    </tr>\n",
       "    <tr>\n",
       "      <th>1</th>\n",
       "      <td>tt0167260</td>\n",
       "      <td>The Lord of the Rings: The Return of the King</td>\n",
       "      <td>http://www.imdb.com/title/tt0167260/</td>\n",
       "      <td>https://m.media-amazon.com/images/M/MV5BNzA5ZD...</td>\n",
       "      <td>2003</td>\n",
       "      <td>True</td>\n",
       "      <td>False</td>\n",
       "      <td>False</td>\n",
       "      <td>False</td>\n",
       "    </tr>\n",
       "    <tr>\n",
       "      <th>2</th>\n",
       "      <td>tt0167261</td>\n",
       "      <td>The Lord of the Rings: The Two Towers</td>\n",
       "      <td>http://www.imdb.com/title/tt0167261/</td>\n",
       "      <td>https://m.media-amazon.com/images/M/MV5BNGE5Mz...</td>\n",
       "      <td>2002</td>\n",
       "      <td>True</td>\n",
       "      <td>False</td>\n",
       "      <td>False</td>\n",
       "      <td>False</td>\n",
       "    </tr>\n",
       "    <tr>\n",
       "      <th>3</th>\n",
       "      <td>tt0169102</td>\n",
       "      <td>Lagaan: Once Upon a Time in India</td>\n",
       "      <td>http://www.imdb.com/title/tt0169102/</td>\n",
       "      <td>https://m.media-amazon.com/images/M/MV5BNDYxNW...</td>\n",
       "      <td>2001</td>\n",
       "      <td>False</td>\n",
       "      <td>False</td>\n",
       "      <td>True</td>\n",
       "      <td>False</td>\n",
       "    </tr>\n",
       "    <tr>\n",
       "      <th>4</th>\n",
       "      <td>tt0211915</td>\n",
       "      <td>Amélie</td>\n",
       "      <td>http://www.imdb.com/title/tt0211915/</td>\n",
       "      <td>https://m.media-amazon.com/images/M/MV5BNDg4Nj...</td>\n",
       "      <td>2001</td>\n",
       "      <td>False</td>\n",
       "      <td>False</td>\n",
       "      <td>False</td>\n",
       "      <td>True</td>\n",
       "    </tr>\n",
       "  </tbody>\n",
       "</table>\n",
       "</div>"
      ],
      "text/plain": [
       "         tid                                              title  \\\n",
       "0  tt0120737  The Lord of the Rings: The Fellowship of the R...   \n",
       "1  tt0167260    The Lord of the Rings: The Return of the King     \n",
       "2  tt0167261            The Lord of the Rings: The Two Towers     \n",
       "3  tt0169102                Lagaan: Once Upon a Time in India     \n",
       "4  tt0211915                                           Amélie     \n",
       "\n",
       "                                    url  \\\n",
       "0  http://www.imdb.com/title/tt0120737/   \n",
       "1  http://www.imdb.com/title/tt0167260/   \n",
       "2  http://www.imdb.com/title/tt0167261/   \n",
       "3  http://www.imdb.com/title/tt0169102/   \n",
       "4  http://www.imdb.com/title/tt0211915/   \n",
       "\n",
       "                                           image_url  year action  scifi  \\\n",
       "0  https://m.media-amazon.com/images/M/MV5BN2EyZj...  2001   True  False   \n",
       "1  https://m.media-amazon.com/images/M/MV5BNzA5ZD...  2003   True  False   \n",
       "2  https://m.media-amazon.com/images/M/MV5BNGE5Mz...  2002   True  False   \n",
       "3  https://m.media-amazon.com/images/M/MV5BNDYxNW...  2001  False  False   \n",
       "4  https://m.media-amazon.com/images/M/MV5BNDg4Nj...  2001  False  False   \n",
       "\n",
       "   drama romance  \n",
       "0  False   False  \n",
       "1  False   False  \n",
       "2  False   False  \n",
       "3   True   False  \n",
       "4  False    True  "
      ]
     },
     "execution_count": 5,
     "metadata": {},
     "output_type": "execute_result"
    }
   ],
   "source": [
    "data_ = pd.read_csv(movie_csv_path)\n",
    "data_.head()"
   ]
  },
  {
   "cell_type": "code",
   "execution_count": 6,
   "metadata": {
    "collapsed": true
   },
   "outputs": [],
   "source": [
    "data = data_.drop(['image_url', 'url', 'year'], axis = 1)"
   ]
  },
  {
   "cell_type": "code",
   "execution_count": 7,
   "metadata": {
    "collapsed": false
   },
   "outputs": [
    {
     "data": {
      "text/html": [
       "<div>\n",
       "<table border=\"1\" class=\"dataframe\">\n",
       "  <thead>\n",
       "    <tr style=\"text-align: right;\">\n",
       "      <th></th>\n",
       "      <th>tid</th>\n",
       "      <th>title</th>\n",
       "      <th>action</th>\n",
       "      <th>scifi</th>\n",
       "      <th>drama</th>\n",
       "      <th>romance</th>\n",
       "    </tr>\n",
       "  </thead>\n",
       "  <tbody>\n",
       "    <tr>\n",
       "      <th>0</th>\n",
       "      <td>tt0120737</td>\n",
       "      <td>The Lord of the Rings: The Fellowship of the R...</td>\n",
       "      <td>True</td>\n",
       "      <td>False</td>\n",
       "      <td>False</td>\n",
       "      <td>False</td>\n",
       "    </tr>\n",
       "    <tr>\n",
       "      <th>1</th>\n",
       "      <td>tt0167260</td>\n",
       "      <td>The Lord of the Rings: The Return of the King</td>\n",
       "      <td>True</td>\n",
       "      <td>False</td>\n",
       "      <td>False</td>\n",
       "      <td>False</td>\n",
       "    </tr>\n",
       "    <tr>\n",
       "      <th>2</th>\n",
       "      <td>tt0167261</td>\n",
       "      <td>The Lord of the Rings: The Two Towers</td>\n",
       "      <td>True</td>\n",
       "      <td>False</td>\n",
       "      <td>False</td>\n",
       "      <td>False</td>\n",
       "    </tr>\n",
       "    <tr>\n",
       "      <th>3</th>\n",
       "      <td>tt0169102</td>\n",
       "      <td>Lagaan: Once Upon a Time in India</td>\n",
       "      <td>False</td>\n",
       "      <td>False</td>\n",
       "      <td>True</td>\n",
       "      <td>False</td>\n",
       "    </tr>\n",
       "    <tr>\n",
       "      <th>4</th>\n",
       "      <td>tt0211915</td>\n",
       "      <td>Amélie</td>\n",
       "      <td>False</td>\n",
       "      <td>False</td>\n",
       "      <td>False</td>\n",
       "      <td>True</td>\n",
       "    </tr>\n",
       "  </tbody>\n",
       "</table>\n",
       "</div>"
      ],
      "text/plain": [
       "         tid                                              title action  scifi  \\\n",
       "0  tt0120737  The Lord of the Rings: The Fellowship of the R...   True  False   \n",
       "1  tt0167260    The Lord of the Rings: The Return of the King     True  False   \n",
       "2  tt0167261            The Lord of the Rings: The Two Towers     True  False   \n",
       "3  tt0169102                Lagaan: Once Upon a Time in India    False  False   \n",
       "4  tt0211915                                           Amélie    False  False   \n",
       "\n",
       "   drama romance  \n",
       "0  False   False  \n",
       "1  False   False  \n",
       "2  False   False  \n",
       "3   True   False  \n",
       "4  False    True  "
      ]
     },
     "execution_count": 7,
     "metadata": {},
     "output_type": "execute_result"
    }
   ],
   "source": [
    "data.head()"
   ]
  },
  {
   "cell_type": "code",
   "execution_count": 282,
   "metadata": {
    "collapsed": false
   },
   "outputs": [
    {
     "name": "stdout",
     "output_type": "stream",
     "text": [
      "5963\n"
     ]
    }
   ],
   "source": [
    "image_glob = glob.glob(posters_path + \"/\" + \"*.jpg\")\n",
    "img_dict = {}\n",
    "print(len(image_glob))"
   ]
  },
  {
   "cell_type": "code",
   "execution_count": 9,
   "metadata": {
    "collapsed": true
   },
   "outputs": [],
   "source": [
    "def get_id(filename):\n",
    "    \n",
    "    index_s = filename.rfind(\"/t\") + 3\n",
    "    index_f = filename.rfind('.jpg')\n",
    "    \n",
    "    return filename[index_s:index_f]"
   ]
  },
  {
   "cell_type": "code",
   "execution_count": 10,
   "metadata": {
    "collapsed": true
   },
   "outputs": [],
   "source": [
    "def get_images_batches(startIndex, endIndex):\n",
    "    \n",
    "    image_dict = {}\n",
    "    \n",
    "    for i in range(startIndex, endIndex):\n",
    "        \n",
    "        _id = get_id(image_glob[i])\n",
    "        #print(_id)\n",
    "        \n",
    "        if startIndex >= len(image_glob) or endIndex >= len(image_glob):\n",
    "            print(\"Index out of range\")\n",
    "            return None\n",
    "        \n",
    "        try:\n",
    "            image_dict[_id] = scpm.imread(image_glob[i])\n",
    "            \n",
    "        except:\n",
    "            print(\"Unable to read images\")\n",
    "            pass\n",
    "        \n",
    "    \n",
    "    \n",
    "    return image_dict"
   ]
  },
  {
   "cell_type": "code",
   "execution_count": null,
   "metadata": {
    "collapsed": true
   },
   "outputs": [],
   "source": []
  },
  {
   "cell_type": "code",
   "execution_count": 11,
   "metadata": {
    "collapsed": true
   },
   "outputs": [],
   "source": [
    "def get_img_dict(interval_size, batch_size, k = 0, batch=1):\n",
    "    \n",
    "    shelf = shelf_open()\n",
    "    \n",
    "    start = (batch - 1) * interval_size\n",
    "    end = start + interval_size\n",
    "    \n",
    "    try:\n",
    "        \n",
    "        j = k\n",
    "    \n",
    "        for i in range(start, end, batch_size):\n",
    "        \n",
    "            dict_ = get_images_batches(i, i + batch_size)\n",
    "        \n",
    "            #name = 'img' + str(j) + \"_dict\"\n",
    "            #print(\"Name is {}\".format(name))\n",
    "        \n",
    "            j += 1\n",
    "        \n",
    "            #shelf[name] = dict_\n",
    "    \n",
    "    except Exception as e:\n",
    "        print(e)\n",
    "        shelf.close()\n",
    "    \n",
    "    print('DONE')\n",
    "    \n",
    "    shelf.close()\n",
    "    \n",
    "    return j"
   ]
  },
  {
   "cell_type": "code",
   "execution_count": 12,
   "metadata": {
    "collapsed": false
   },
   "outputs": [
    {
     "name": "stderr",
     "output_type": "stream",
     "text": [
      "//anaconda/lib/python3.5/site-packages/ipykernel/__main__.py:15: DeprecationWarning: `imread` is deprecated!\n",
      "`imread` is deprecated in SciPy 1.0.0, and will be removed in 1.2.0.\n",
      "Use ``imageio.imread`` instead.\n"
     ]
    }
   ],
   "source": [
    "images_dict = get_images_batches(0, 100)"
   ]
  },
  {
   "cell_type": "code",
   "execution_count": null,
   "metadata": {
    "collapsed": false
   },
   "outputs": [],
   "source": []
  },
  {
   "cell_type": "code",
   "execution_count": null,
   "metadata": {
    "collapsed": true
   },
   "outputs": [],
   "source": [
    "\n",
    "        "
   ]
  },
  {
   "cell_type": "code",
   "execution_count": null,
   "metadata": {
    "collapsed": true
   },
   "outputs": [],
   "source": []
  },
  {
   "cell_type": "code",
   "execution_count": null,
   "metadata": {
    "collapsed": true
   },
   "outputs": [],
   "source": []
  },
  {
   "cell_type": "code",
   "execution_count": null,
   "metadata": {
    "collapsed": true
   },
   "outputs": [],
   "source": []
  },
  {
   "cell_type": "code",
   "execution_count": 74,
   "metadata": {
    "collapsed": false
   },
   "outputs": [],
   "source": [
    "for _id, img in images_dict.items():\n",
    "    #print(img.shape)\n",
    "    \n",
    "    if(img.shape[2] == 4):\n",
    "        print('y')\n",
    "        img = cv2.cvtColor(img, cv2.COLOR_RGBA2RGB)\n",
    "        images_dict[_id] = img"
   ]
  },
  {
   "cell_type": "code",
   "execution_count": 75,
   "metadata": {
    "collapsed": false
   },
   "outputs": [
    {
     "name": "stdout",
     "output_type": "stream",
     "text": [
      "(2048, 1382, 3)\n"
     ]
    }
   ],
   "source": [
    "print(images_dict['0371746'].shape)"
   ]
  },
  {
   "cell_type": "code",
   "execution_count": 76,
   "metadata": {
    "collapsed": false
   },
   "outputs": [],
   "source": [
    "action_movies = data.loc[data['action'] == True]\n",
    "scifi_movies= data.loc[data['scifi'] == True]\n",
    "romance_movies = data.loc[data['romance'] == True]\n",
    "\n",
    "action_tid, scifi_tid, romance_tid = action_movies['tid'], scifi_movies['tid'], romance_movies['tid']\n",
    "\n",
    "action_tid = np.array(action_tid)\n",
    "scifi_tid = np.array(scifi_tid)\n",
    "romance_tid = np.array(romance_tid)"
   ]
  },
  {
   "cell_type": "code",
   "execution_count": 77,
   "metadata": {
    "collapsed": false
   },
   "outputs": [
    {
     "name": "stdout",
     "output_type": "stream",
     "text": [
      "711 263 443\n"
     ]
    }
   ],
   "source": [
    "print(len(action_movies), len(scifi_movies), len(romance_movies))"
   ]
  },
  {
   "cell_type": "code",
   "execution_count": 78,
   "metadata": {
    "collapsed": false
   },
   "outputs": [
    {
     "name": "stdout",
     "output_type": "stream",
     "text": [
      "711\n"
     ]
    }
   ],
   "source": [
    "print(len(action_tid))\n",
    "#print(action_tid)"
   ]
  },
  {
   "cell_type": "code",
   "execution_count": 99,
   "metadata": {
    "collapsed": true
   },
   "outputs": [],
   "source": [
    "datagen = ImageDataGenerator(\n",
    "    rotation_range=50, \n",
    "    width_shift_range=0.3, \n",
    "    height_shift_range=0.2,\n",
    "    shear_range=0.2,\n",
    "    zoom_range=0.3,\n",
    "    horizontal_flip=True,\n",
    "    fill_mode='nearest')\n",
    "\n",
    "def generate_duplicates(image, directory, poster_id, copies):\n",
    "    \n",
    "    image = image.reshape((1,) + image.shape)\n",
    "    \n",
    "    i = 0\n",
    "    \n",
    "    for batch in datagen.flow(image, save_to_dir= directory, save_prefix=poster_id, save_format='jpg'):\n",
    "        \n",
    "        i += 1\n",
    "    \n",
    "        if i >= copies:\n",
    "            break"
   ]
  },
  {
   "cell_type": "code",
   "execution_count": 104,
   "metadata": {
    "collapsed": true
   },
   "outputs": [],
   "source": [
    "action_dup = \"/Users/HarshavardhanK/Desktop/Media/action_dups\"\n",
    "scifi_dup = \"/Users/HarshavardhanK/Desktop/Media/scifi_dups\"\n",
    "romance_dup = \"/Users/HarshavardhanK/Desktop/Media/romance_dups\"\n",
    "\n",
    "new_posters_path = \"/Users/HarshavardhanK/Desktop/Media/posters\""
   ]
  },
  {
   "cell_type": "code",
   "execution_count": 101,
   "metadata": {
    "collapsed": true
   },
   "outputs": [],
   "source": [
    "def get_tid(filename):\n",
    "    \n",
    "    index_s = filename.rfind(\"/t\") + 1\n",
    "    index_f = filename.rfind('.jpg')\n",
    "    \n",
    "    return filename[index_s:index_f]"
   ]
  },
  {
   "cell_type": "code",
   "execution_count": 143,
   "metadata": {
    "collapsed": true
   },
   "outputs": [],
   "source": [
    "def generate_augmented_duplicates(poster_ids, directory, copies):\n",
    "    \n",
    "    new_image_glob = glob.glob(new_posters_path + '/' + '*.jpg')\n",
    "    \n",
    "    for path in new_image_glob:\n",
    "        poster_id = get_tid(path)\n",
    "        \n",
    "        \n",
    "        try:\n",
    "            \n",
    "            image = scpm.imread(path)\n",
    "        \n",
    "            if len(image.shape) != 3 or image.shape[2] == 4:\n",
    "                continue\n",
    "        \n",
    "            if poster_id in poster_ids:\n",
    "                #print(poster_id)\n",
    "                generate_duplicates(image, directory, poster_id, copies)\n",
    "        \n",
    "        except:\n",
    "            pass\n",
    "    \n",
    "    print(\"Done generating augmented duplicated. Saved in {}\".format(directory))\n",
    "            "
   ]
  },
  {
   "cell_type": "code",
   "execution_count": 144,
   "metadata": {
    "collapsed": false
   },
   "outputs": [
    {
     "name": "stderr",
     "output_type": "stream",
     "text": [
      "//anaconda/lib/python3.5/site-packages/ipykernel/__main__.py:11: DeprecationWarning: `imread` is deprecated!\n",
      "`imread` is deprecated in SciPy 1.0.0, and will be removed in 1.2.0.\n",
      "Use ``imageio.imread`` instead.\n"
     ]
    },
    {
     "name": "stdout",
     "output_type": "stream",
     "text": [
      "Done generating augmented duplicated. Saved in /Users/HarshavardhanK/Desktop/Media/scifi_dups\n",
      "Done generating augmented duplicated. Saved in /Users/HarshavardhanK/Desktop/Media/romance_dups\n"
     ]
    }
   ],
   "source": [
    "generate_augmented_duplicates(scifi_tid, scifi_dup, 6)\n",
    "generate_augmented_duplicates(romance_tid, romance_dup, 3)"
   ]
  },
  {
   "cell_type": "code",
   "execution_count": 145,
   "metadata": {
    "collapsed": false
   },
   "outputs": [
    {
     "name": "stderr",
     "output_type": "stream",
     "text": [
      "//anaconda/lib/python3.5/site-packages/ipykernel/__main__.py:11: DeprecationWarning: `imread` is deprecated!\n",
      "`imread` is deprecated in SciPy 1.0.0, and will be removed in 1.2.0.\n",
      "Use ``imageio.imread`` instead.\n"
     ]
    },
    {
     "name": "stdout",
     "output_type": "stream",
     "text": [
      "Done generating augmented duplicated. Saved in /Users/HarshavardhanK/Desktop/Media/action_dups\n"
     ]
    }
   ],
   "source": [
    "generate_augmented_duplicates(action_tid, action_dup, 1)"
   ]
  },
  {
   "cell_type": "code",
   "execution_count": 177,
   "metadata": {
    "collapsed": true
   },
   "outputs": [],
   "source": [
    "def get_tid_dups(filename):\n",
    "    \n",
    "    index_s = filename.rfind(\"/t\") + 1\n",
    "    index_0 = filename.rfind('_0')\n",
    "    index_f = filename.rfind('.jpg')\n",
    "    \n",
    "    name = filename[index_s:index_f]\n",
    "    #print(name)\n",
    "    \n",
    "    return name"
   ]
  },
  {
   "cell_type": "code",
   "execution_count": 171,
   "metadata": {
    "collapsed": true
   },
   "outputs": [],
   "source": [
    "def rename_posters(directory, naming_dict):\n",
    "    \n",
    "    local_glob = glob.glob(directory + '/' + '*.jpg')\n",
    "    print(\"{} items to rename\".format(len(local_glob)))\n",
    "    i = 0\n",
    "    \n",
    "    for path in local_glob:\n",
    "        \n",
    "        try:\n",
    "        \n",
    "            l = len(naming_dict)\n",
    "        \n",
    "            name = directory + '/' + get_tid_dups(path, naming_dict[i % l])\n",
    "            print(\"{} to {}\".format(path, name))\n",
    "            os.rename(path, name)\n",
    "        \n",
    "            i += 1\n",
    "        \n",
    "        except Exception as e:\n",
    "            print(e)\n",
    "            \n",
    "    \n",
    "    print(\"DONE renaming\")"
   ]
  },
  {
   "cell_type": "markdown",
   "metadata": {},
   "source": [
    "# dummy_path = '/Users/HarshavardhanK/Desktop/Media/tt0035423_0_1480.jpg'\n",
    "#renam = get_tid_dups(dummy_path)\n",
    "#print(renam)\n",
    "#os.rename(dummy_path, '/Users/HarshavardhanK/Desktop/Media/' + renam)"
   ]
  },
  {
   "cell_type": "code",
   "execution_count": 173,
   "metadata": {
    "collapsed": false
   },
   "outputs": [],
   "source": [
    "romance_path = \"/Users/HarshavardhanK/Desktop/Media/romance_dups copy\"\n",
    "romance_naming_dict = {0:'A', 1:'B', 2:'C'}\n",
    "\n",
    "action_path = '/Users/HarshavardhanK/Desktop/Media/action_dups copy'\n",
    "action_naming_dict = {0:'A'}\n",
    "\n",
    "scifi_path = '/Users/HarshavardhanK/Desktop/Media/scifi_dups copy'\n",
    "scifi_naming_dict = {0:'A', 1:'B', 2:'C', 3: 'D', 4: 'E', 5: 'F'}\n",
    "\n",
    "#rename_posters(romance_path, romance_naming_dict)"
   ]
  },
  {
   "cell_type": "code",
   "execution_count": 95,
   "metadata": {
    "collapsed": true
   },
   "outputs": [],
   "source": [
    "def image_resize(image, size=(280, 256)):\n",
    "    \n",
    "    image = scpm.imresize(image, size)\n",
    "    image = image.astype(np.float32)\n",
    "    image = (image / 127.5) - 1\n",
    "    \n",
    "    return image"
   ]
  },
  {
   "cell_type": "code",
   "execution_count": 96,
   "metadata": {
    "collapsed": true
   },
   "outputs": [],
   "source": [
    "def resize_save(save_path):\n",
    "    \n",
    "    #local_glob = glob(posters_path + '/' + '*.jpg')\n",
    "    i = 0\n",
    "    \n",
    "    for path in image_glob:\n",
    "        \n",
    "        i += 1\n",
    "        print(\"Image count: {}\".format(i))\n",
    "        \n",
    "        img_save_path = save_path + '/' + get_tid(path) + '.jpg'\n",
    "        image = scpm.imread(path)\n",
    "        \n",
    "        if (len(image.shape) != 3) or image.shape[2] == 4:\n",
    "            continue\n",
    "        \n",
    "        image = image_resize(image, size=(280, 256))\n",
    "        scpm.imsave(img_save_path, image)\n",
    "    \n",
    "    print(\"DONE\")"
   ]
  },
  {
   "cell_type": "code",
   "execution_count": 187,
   "metadata": {
    "collapsed": true
   },
   "outputs": [],
   "source": [
    "action_path = \"/Users/HarshavardhanK/Desktop/Media/posters/action_dups\"\n",
    "scifi_path = \"/Users/HarshavardhanK/Desktop/Media/posters/scifi_dups\"\n",
    "romance_path = \"/Users/HarshavardhanK/Desktop/Media/posters/romance_dups\""
   ]
  },
  {
   "cell_type": "code",
   "execution_count": 280,
   "metadata": {
    "collapsed": false
   },
   "outputs": [
    {
     "name": "stdout",
     "output_type": "stream",
     "text": [
      "0\n",
      "0\n"
     ]
    }
   ],
   "source": [
    "action_dup_glob = glob.glob(action_path + '/' + '*.jpg')\n",
    "scifi_dup_glob = glob.glob(action_path + '/' + '*.jpg')\n",
    "romance_dup_glob = glob.glob(action_path + '/' + '*.jpg')\n",
    "\n",
    "print(len(action_dup_glob))\n",
    "print(len(scifi_dup_glob))"
   ]
  },
  {
   "cell_type": "markdown",
   "metadata": {},
   "source": []
  },
  {
   "cell_type": "code",
   "execution_count": 189,
   "metadata": {
    "collapsed": false
   },
   "outputs": [],
   "source": [
    "#resize_save(save_path)"
   ]
  },
  {
   "cell_type": "code",
   "execution_count": 190,
   "metadata": {
    "collapsed": true
   },
   "outputs": [],
   "source": [
    "def get_tids_dups(dup_glob):\n",
    "    tids = []\n",
    "    \n",
    "    for path in dup_glob:\n",
    "        name = get_tid_dups(path)\n",
    "        tids.append(name)\n",
    "    \n",
    "    print('DONE')\n",
    "    return tids\n",
    "    "
   ]
  },
  {
   "cell_type": "code",
   "execution_count": 194,
   "metadata": {
    "collapsed": false
   },
   "outputs": [
    {
     "name": "stdout",
     "output_type": "stream",
     "text": [
      "DONE\n",
      "DONE\n",
      "DONE\n"
     ]
    }
   ],
   "source": [
    "action_tids_dups = get_tids_dups(action_dup_glob)\n",
    "scifi_tids_dups = get_tids_dups(scifi_dup_glob)\n",
    "romance_tids_dups = get_tids_dups(romance_dup_glob)\n",
    "\n",
    "#print(scifi_tids_dups)"
   ]
  },
  {
   "cell_type": "code",
   "execution_count": 192,
   "metadata": {
    "collapsed": false
   },
   "outputs": [
    {
     "name": "stdout",
     "output_type": "stream",
     "text": [
      "tt0371920_0_3633\n",
      "tt0371920\n",
      "tt0371920\n"
     ]
    }
   ],
   "source": [
    "def get_sliced_tids(name):\n",
    "    return name[0:9]\n",
    "\n",
    "print(action_tids_dups[0])\n",
    "print(get_sliced_tids(action_tids_dups[0]))\n",
    "print(get_sliced_tids(scifi_tids_dups[0]))"
   ]
  },
  {
   "cell_type": "code",
   "execution_count": null,
   "metadata": {
    "collapsed": true
   },
   "outputs": [],
   "source": []
  },
  {
   "cell_type": "code",
   "execution_count": 257,
   "metadata": {
    "collapsed": false
   },
   "outputs": [
    {
     "name": "stdout",
     "output_type": "stream",
     "text": [
      "           tid         title action scifi  drama romance\n",
      "860  tt0371920  Rottweiler     True  True  False   False\n"
     ]
    }
   ],
   "source": [
    "this_row = data.loc[data['tid'] == 'tt0371920']\n",
    "print(this_row)\n",
    "\n",
    "def append_tid_to_dataframe(df, tids):\n",
    "    \n",
    "    for tid in tids:\n",
    "        \n",
    "        #print(tid)\n",
    "    \n",
    "        req_row_tid = get_sliced_tids(tid)\n",
    "        req_row = df.loc[df['tid'] == req_row_tid]\n",
    "    \n",
    "        add_row = req_row.copy()\n",
    "        add_row['tid'] = tid\n",
    "    \n",
    "        #print(add_row)\n",
    "    \n",
    "        df = df.append(add_row)\n",
    "    \n",
    "    return df\n",
    "    \n",
    "    print('Done..')\n",
    "    "
   ]
  },
  {
   "cell_type": "code",
   "execution_count": null,
   "metadata": {
    "collapsed": true
   },
   "outputs": [],
   "source": [
    "df = data.copy()\n",
    "\n",
    "df_action = append_tid_to_dataframe(df, action_tids_dups)\n",
    "df_scifi = append_tid_to_dataframe(df_action, scifi_tids_dups)\n",
    "df_romance = append_tid_to_dataframe(df_scifi, romance_tids_dups)"
   ]
  },
  {
   "cell_type": "code",
   "execution_count": 279,
   "metadata": {
    "collapsed": false
   },
   "outputs": [
    {
     "name": "stdout",
     "output_type": "stream",
     "text": [
      "2455\n",
      "700\n",
      "3155\n",
      "3855\n",
      "4555\n"
     ]
    }
   ],
   "source": [
    "\n",
    "\n",
    "print(len(df))\n",
    "\n",
    "print(len(scifi_tids_dups))\n",
    "print(len(df_action))\n",
    "print(len(df_scifi))\n",
    "print(len(df_romance))"
   ]
  },
  {
   "cell_type": "code",
   "execution_count": 277,
   "metadata": {
    "collapsed": false
   },
   "outputs": [
    {
     "data": {
      "text/html": [
       "<div>\n",
       "<table border=\"1\" class=\"dataframe\">\n",
       "  <thead>\n",
       "    <tr style=\"text-align: right;\">\n",
       "      <th></th>\n",
       "      <th>tid</th>\n",
       "      <th>title</th>\n",
       "      <th>action</th>\n",
       "      <th>scifi</th>\n",
       "      <th>drama</th>\n",
       "      <th>romance</th>\n",
       "    </tr>\n",
       "  </thead>\n",
       "  <tbody>\n",
       "    <tr>\n",
       "      <th>0</th>\n",
       "      <td>tt0120737</td>\n",
       "      <td>The Lord of the Rings: The Fellowship of the R...</td>\n",
       "      <td>True</td>\n",
       "      <td>False</td>\n",
       "      <td>False</td>\n",
       "      <td>False</td>\n",
       "    </tr>\n",
       "    <tr>\n",
       "      <th>1</th>\n",
       "      <td>tt0167260</td>\n",
       "      <td>The Lord of the Rings: The Return of the King</td>\n",
       "      <td>True</td>\n",
       "      <td>False</td>\n",
       "      <td>False</td>\n",
       "      <td>False</td>\n",
       "    </tr>\n",
       "    <tr>\n",
       "      <th>2</th>\n",
       "      <td>tt0167261</td>\n",
       "      <td>The Lord of the Rings: The Two Towers</td>\n",
       "      <td>True</td>\n",
       "      <td>False</td>\n",
       "      <td>False</td>\n",
       "      <td>False</td>\n",
       "    </tr>\n",
       "    <tr>\n",
       "      <th>3</th>\n",
       "      <td>tt0169102</td>\n",
       "      <td>Lagaan: Once Upon a Time in India</td>\n",
       "      <td>False</td>\n",
       "      <td>False</td>\n",
       "      <td>True</td>\n",
       "      <td>False</td>\n",
       "    </tr>\n",
       "    <tr>\n",
       "      <th>4</th>\n",
       "      <td>tt0211915</td>\n",
       "      <td>Amélie</td>\n",
       "      <td>False</td>\n",
       "      <td>False</td>\n",
       "      <td>False</td>\n",
       "      <td>True</td>\n",
       "    </tr>\n",
       "  </tbody>\n",
       "</table>\n",
       "</div>"
      ],
      "text/plain": [
       "         tid                                              title action  scifi  \\\n",
       "0  tt0120737  The Lord of the Rings: The Fellowship of the R...   True  False   \n",
       "1  tt0167260    The Lord of the Rings: The Return of the King     True  False   \n",
       "2  tt0167261            The Lord of the Rings: The Two Towers     True  False   \n",
       "3  tt0169102                Lagaan: Once Upon a Time in India    False  False   \n",
       "4  tt0211915                                           Amélie    False  False   \n",
       "\n",
       "   drama romance  \n",
       "0  False   False  \n",
       "1  False   False  \n",
       "2  False   False  \n",
       "3   True   False  \n",
       "4  False    True  "
      ]
     },
     "execution_count": 277,
     "metadata": {},
     "output_type": "execute_result"
    }
   ],
   "source": [
    "final_dataframe = df_romance.copy()\n",
    "final_dataframe.head()"
   ]
  },
  {
   "cell_type": "code",
   "execution_count": 268,
   "metadata": {
    "collapsed": true
   },
   "outputs": [],
   "source": [
    "final_dataframe.to_csv('final_movie_posters.csv', sep=',', encoding='utf-8')"
   ]
  },
  {
   "cell_type": "code",
   "execution_count": 287,
   "metadata": {
    "collapsed": false
   },
   "outputs": [
    {
     "data": {
      "text/html": [
       "<div>\n",
       "<table border=\"1\" class=\"dataframe\">\n",
       "  <thead>\n",
       "    <tr style=\"text-align: right;\">\n",
       "      <th></th>\n",
       "      <th>Unnamed: 0</th>\n",
       "      <th>tid</th>\n",
       "      <th>title</th>\n",
       "      <th>action</th>\n",
       "      <th>scifi</th>\n",
       "      <th>drama</th>\n",
       "      <th>romance</th>\n",
       "    </tr>\n",
       "  </thead>\n",
       "  <tbody>\n",
       "    <tr>\n",
       "      <th>0</th>\n",
       "      <td>877</td>\n",
       "      <td>tt0377818_0_8471</td>\n",
       "      <td>The Dukes of Hazzard</td>\n",
       "      <td>True</td>\n",
       "      <td>False</td>\n",
       "      <td>False</td>\n",
       "      <td>False</td>\n",
       "    </tr>\n",
       "    <tr>\n",
       "      <th>1</th>\n",
       "      <td>241</td>\n",
       "      <td>tt0353014_0_7611</td>\n",
       "      <td>Wonderful Days</td>\n",
       "      <td>True</td>\n",
       "      <td>False</td>\n",
       "      <td>False</td>\n",
       "      <td>False</td>\n",
       "    </tr>\n",
       "    <tr>\n",
       "      <th>2</th>\n",
       "      <td>1825</td>\n",
       "      <td>tt0823333</td>\n",
       "      <td>Blade: The Series</td>\n",
       "      <td>True</td>\n",
       "      <td>False</td>\n",
       "      <td>False</td>\n",
       "      <td>False</td>\n",
       "    </tr>\n",
       "    <tr>\n",
       "      <th>3</th>\n",
       "      <td>1817</td>\n",
       "      <td>tt0814203</td>\n",
       "      <td>Macbeth</td>\n",
       "      <td>False</td>\n",
       "      <td>False</td>\n",
       "      <td>True</td>\n",
       "      <td>False</td>\n",
       "    </tr>\n",
       "    <tr>\n",
       "      <th>4</th>\n",
       "      <td>1008</td>\n",
       "      <td>tt0443706</td>\n",
       "      <td>Zodiac</td>\n",
       "      <td>False</td>\n",
       "      <td>False</td>\n",
       "      <td>True</td>\n",
       "      <td>False</td>\n",
       "    </tr>\n",
       "  </tbody>\n",
       "</table>\n",
       "</div>"
      ],
      "text/plain": [
       "   Unnamed: 0               tid                           title action  scifi  \\\n",
       "0         877  tt0377818_0_8471          The Dukes of Hazzard     True  False   \n",
       "1         241  tt0353014_0_7611                Wonderful Days     True  False   \n",
       "2        1825         tt0823333  Blade: The Series                True  False   \n",
       "3        1817         tt0814203                       Macbeth    False  False   \n",
       "4        1008         tt0443706                        Zodiac    False  False   \n",
       "\n",
       "   drama romance  \n",
       "0  False   False  \n",
       "1  False   False  \n",
       "2  False   False  \n",
       "3   True   False  \n",
       "4   True   False  "
      ]
     },
     "execution_count": 287,
     "metadata": {},
     "output_type": "execute_result"
    }
   ],
   "source": [
    "new_df = pd.read_csv('final_movie_posters.csv')\n",
    "new_df = new_df.sample(frac=1).reset_index(drop=True)\n",
    "\n",
    "new_df.head()"
   ]
  },
  {
   "cell_type": "code",
   "execution_count": 288,
   "metadata": {
    "collapsed": true
   },
   "outputs": [],
   "source": [
    "def display_poster(poster_id):\n",
    "    \n",
    "    row = data.loc[data['tid'] == \"tt\" + poster_id]\n",
    "    #print(row)\n",
    "    title = row['title'].values[0]\n",
    "    \n",
    "    genre = \"\"\n",
    "    \n",
    "    action = row['action'].values[0]\n",
    "    scifi = row['scifi'].values[0]\n",
    "    drama = row['drama'].values[0]\n",
    "    rom = row['romance'].values[0]\n",
    "    \n",
    "    if action:\n",
    "        genre += '|Action|'\n",
    "    if rom:\n",
    "        genre += '|Romance|'\n",
    "    if drama:\n",
    "        genre += '|Drama|'\n",
    "    if scifi:\n",
    "        genre += '|Sci-Fi|'\n",
    "        \n",
    "    \n",
    "    plt.title(\"{} \\n {}\".format(title, genre))\n",
    "    plt.imshow(img0_dict[poster_id])"
   ]
  },
  {
   "cell_type": "code",
   "execution_count": 289,
   "metadata": {
    "collapsed": false
   },
   "outputs": [
    {
     "ename": "NameError",
     "evalue": "name 'img0_dict' is not defined",
     "output_type": "error",
     "traceback": [
      "\u001b[0;31m---------------------------------------------------------------------------\u001b[0m",
      "\u001b[0;31mNameError\u001b[0m                                 Traceback (most recent call last)",
      "\u001b[0;32m<ipython-input-289-ca5d502a48a7>\u001b[0m in \u001b[0;36m<module>\u001b[0;34m()\u001b[0m\n\u001b[0;32m----> 1\u001b[0;31m \u001b[0mdisplay_poster\u001b[0m\u001b[0;34m(\u001b[0m\u001b[0;34m'0240890'\u001b[0m\u001b[0;34m)\u001b[0m\u001b[0;34m\u001b[0m\u001b[0m\n\u001b[0m",
      "\u001b[0;32m<ipython-input-288-88c2754cf4ab>\u001b[0m in \u001b[0;36mdisplay_poster\u001b[0;34m(poster_id)\u001b[0m\n\u001b[1;32m     23\u001b[0m \u001b[0;34m\u001b[0m\u001b[0m\n\u001b[1;32m     24\u001b[0m     \u001b[0mplt\u001b[0m\u001b[0;34m.\u001b[0m\u001b[0mtitle\u001b[0m\u001b[0;34m(\u001b[0m\u001b[0;34m\"{} \\n {}\"\u001b[0m\u001b[0;34m.\u001b[0m\u001b[0mformat\u001b[0m\u001b[0;34m(\u001b[0m\u001b[0mtitle\u001b[0m\u001b[0;34m,\u001b[0m \u001b[0mgenre\u001b[0m\u001b[0;34m)\u001b[0m\u001b[0;34m)\u001b[0m\u001b[0;34m\u001b[0m\u001b[0m\n\u001b[0;32m---> 25\u001b[0;31m     \u001b[0mplt\u001b[0m\u001b[0;34m.\u001b[0m\u001b[0mimshow\u001b[0m\u001b[0;34m(\u001b[0m\u001b[0mimg0_dict\u001b[0m\u001b[0;34m[\u001b[0m\u001b[0mposter_id\u001b[0m\u001b[0;34m]\u001b[0m\u001b[0;34m)\u001b[0m\u001b[0;34m\u001b[0m\u001b[0m\n\u001b[0m",
      "\u001b[0;31mNameError\u001b[0m: name 'img0_dict' is not defined"
     ]
    },
    {
     "data": {
      "image/png": "[encoded data removed]",
      "text/plain": [
       "<matplotlib.figure.Figure at 0x126157208>"
      ]
     },
     "metadata": {},
     "output_type": "display_data"
    }
   ],
   "source": [
    "display_poster('0240890')\n"
   ]
  },
  {
   "cell_type": "code",
   "execution_count": null,
   "metadata": {
    "collapsed": true
   },
   "outputs": [],
   "source": [
    "    "
   ]
  },
  {
   "cell_type": "code",
   "execution_count": 140,
   "metadata": {
    "collapsed": true
   },
   "outputs": [],
   "source": [
    "def image_resize(image, size=(150, 101)):\n",
    "    \n",
    "    image = scpm.imresize(image, size)\n",
    "    image = image.astype(np.float32)\n",
    "    image = (image / 127.5) - 1\n",
    "    \n",
    "    return image\n",
    "    "
   ]
  },
  {
   "cell_type": "code",
   "execution_count": 141,
   "metadata": {
    "collapsed": false
   },
   "outputs": [
    {
     "name": "stderr",
     "output_type": "stream",
     "text": [
      "/usr/local/lib/python3.6/site-packages/ipykernel_launcher.py:3: DeprecationWarning: `imresize` is deprecated!\n",
      "`imresize` is deprecated in SciPy 1.0.0, and will be removed in 1.2.0.\n",
      "Use ``skimage.transform.resize`` instead.\n",
      "  This is separate from the ipykernel package so we can avoid doing imports until\n",
      "Clipping input data to the valid range for imshow with RGB data ([0..1] for floats or [0..255] for integers).\n"
     ]
    },
    {
     "data": {
      "text/plain": [
       "<matplotlib.image.AxesImage at 0x113cccc50>"
      ]
     },
     "execution_count": 141,
     "metadata": {},
     "output_type": "execute_result"
    },
    {
     "data": {
      "image/png": "[encoded data removed]",
      "text/plain": [
       "<Figure size 432x288 with 1 Axes>"
      ]
     },
     "metadata": {},
     "output_type": "display_data"
    }
   ],
   "source": [
    "resized_img = image_resize(img0_dict['0240890'])\n",
    "plt.imshow(resized_img)"
   ]
  },
  {
   "cell_type": "code",
   "execution_count": 142,
   "metadata": {
    "collapsed": false
   },
   "outputs": [
    {
     "data": {
      "text/html": [
       "<div>\n",
       "<style scoped>\n",
       "    .dataframe tbody tr th:only-of-type {\n",
       "        vertical-align: middle;\n",
       "    }\n",
       "\n",
       "    .dataframe tbody tr th {\n",
       "        vertical-align: top;\n",
       "    }\n",
       "\n",
       "    .dataframe thead th {\n",
       "        text-align: right;\n",
       "    }\n",
       "</style>\n",
       "<table border=\"1\" class=\"dataframe\">\n",
       "  <thead>\n",
       "    <tr style=\"text-align: right;\">\n",
       "      <th></th>\n",
       "      <th>tid</th>\n",
       "      <th>title</th>\n",
       "      <th>action</th>\n",
       "      <th>scifi</th>\n",
       "      <th>drama</th>\n",
       "      <th>romance</th>\n",
       "    </tr>\n",
       "  </thead>\n",
       "  <tbody>\n",
       "    <tr>\n",
       "      <th>0</th>\n",
       "      <td>tt0120737</td>\n",
       "      <td>The Lord of the Rings: The Fellowship of the R...</td>\n",
       "      <td>True</td>\n",
       "      <td>False</td>\n",
       "      <td>False</td>\n",
       "      <td>False</td>\n",
       "    </tr>\n",
       "    <tr>\n",
       "      <th>1</th>\n",
       "      <td>tt0167260</td>\n",
       "      <td>The Lord of the Rings: The Return of the King</td>\n",
       "      <td>True</td>\n",
       "      <td>False</td>\n",
       "      <td>False</td>\n",
       "      <td>False</td>\n",
       "    </tr>\n",
       "    <tr>\n",
       "      <th>2</th>\n",
       "      <td>tt0167261</td>\n",
       "      <td>The Lord of the Rings: The Two Towers</td>\n",
       "      <td>True</td>\n",
       "      <td>False</td>\n",
       "      <td>False</td>\n",
       "      <td>False</td>\n",
       "    </tr>\n",
       "    <tr>\n",
       "      <th>3</th>\n",
       "      <td>tt0169102</td>\n",
       "      <td>Lagaan: Once Upon a Time in India</td>\n",
       "      <td>False</td>\n",
       "      <td>False</td>\n",
       "      <td>True</td>\n",
       "      <td>False</td>\n",
       "    </tr>\n",
       "    <tr>\n",
       "      <th>4</th>\n",
       "      <td>tt0211915</td>\n",
       "      <td>Amélie</td>\n",
       "      <td>False</td>\n",
       "      <td>False</td>\n",
       "      <td>False</td>\n",
       "      <td>True</td>\n",
       "    </tr>\n",
       "  </tbody>\n",
       "</table>\n",
       "</div>"
      ],
      "text/plain": [
       "         tid                                              title  action  \\\n",
       "0  tt0120737  The Lord of the Rings: The Fellowship of the R...    True   \n",
       "1  tt0167260    The Lord of the Rings: The Return of the King      True   \n",
       "2  tt0167261            The Lord of the Rings: The Two Towers      True   \n",
       "3  tt0169102                Lagaan: Once Upon a Time in India     False   \n",
       "4  tt0211915                                           Amélie     False   \n",
       "\n",
       "   scifi  drama  romance  \n",
       "0  False  False    False  \n",
       "1  False  False    False  \n",
       "2  False  False    False  \n",
       "3  False   True    False  \n",
       "4  False  False     True  "
      ]
     },
     "execution_count": 142,
     "metadata": {},
     "output_type": "execute_result"
    }
   ],
   "source": [
    "data.head()"
   ]
  },
  {
   "cell_type": "code",
   "execution_count": 143,
   "metadata": {
    "collapsed": true
   },
   "outputs": [],
   "source": [
    "def genres_per_movie(_id, data):\n",
    "    \n",
    "    row = data.loc[data['tid'] == \"tt\" + _id]\n",
    "    genres = []\n",
    "    \n",
    "    if row['action'].values[0]:\n",
    "        genres.append('action')\n",
    "    if row['scifi'].values[0]:\n",
    "        genres.append('scifi')\n",
    "    if row['drama'].values[0]:\n",
    "        genres.append('drama')\n",
    "    if row['romance'].values[0]:\n",
    "        genres.append('romance')\n",
    "    \n",
    "    \n",
    "    return genres\n",
    "        "
   ]
  },
  {
   "cell_type": "code",
   "execution_count": 154,
   "metadata": {
    "collapsed": true
   },
   "outputs": [],
   "source": [
    "def prepare_data(data, img_dict, size=(150, 101)):\n",
    "    \n",
    "    dataset = []\n",
    "    ids = []\n",
    "    y = []\n",
    "    \n",
    "    label_dict = {'word2id': {'action':0, 'scifi': 1, 'drama': 2, 'romance': 3}, 'id2word': ['action', 'scifi', 'drama', 'romance']}\n",
    "    num_classes = len(label_dict['id2word'])\n",
    "    \n",
    "    print(num_classes)\n",
    "    \n",
    "    num_samples = len(img_dict)\n",
    "    \n",
    "    print(\"Have {} samples\".format(num_samples))\n",
    "    \n",
    "    for key in img_dict:\n",
    "        \n",
    "        genres = genres_per_movie(key, data)\n",
    "        \n",
    "        image = image_resize(img_dict[key], size)\n",
    "        one_hot_label = np.sum([np.eye(num_classes, dtype=np.uint8)[label_dict['word2id'][l]] for l in genres], axis = 0, dtype=np.uint8)\n",
    "        \n",
    "        dataset.append(image)\n",
    "        y.append(one_hot_label)\n",
    "        ids.append(key)\n",
    "    \n",
    "    \n",
    "    print(\"DONE\")\n",
    "    \n",
    "    return dataset, y, label_dict, ids\n",
    "    \n",
    "    \n",
    "    "
   ]
  },
  {
   "cell_type": "code",
   "execution_count": 147,
   "metadata": {
    "collapsed": true
   },
   "outputs": [],
   "source": [
    "def prepare_big_img_dict(img_dicts):\n",
    "    \n",
    "    big_img_dict = {}\n",
    "    \n",
    "    for img in img_dicts:\n",
    "        for key, value in img.items():\n",
    "            big_img_dict[key] = value\n",
    "    \n",
    "    \n",
    "    return big_img_dict\n",
    "\n",
    "shelf.close()"
   ]
  },
  {
   "cell_type": "code",
   "execution_count": 117,
   "metadata": {
    "collapsed": true
   },
   "outputs": [],
   "source": [
    "\n",
    "img_dicts = collect_img_dicts(shelf)\n",
    "big_img_dict = prepare_big_img_dict(img_dicts)\n",
    "\n"
   ]
  },
  {
   "cell_type": "code",
   "execution_count": 170,
   "metadata": {
    "collapsed": true
   },
   "outputs": [],
   "source": [
    "for _id, img in big_img_dict.items():\n",
    "\n",
    "    if(img.shape[2] == 4):\n",
    "        print('y')\n",
    "        img = cv2.cvtColor(img, cv2.COLOR_RGBA2RGB)\n",
    "        big_img_dict[_id] = img"
   ]
  },
  {
   "cell_type": "code",
   "execution_count": 171,
   "metadata": {
    "collapsed": false
   },
   "outputs": [
    {
     "name": "stdout",
     "output_type": "stream",
     "text": [
      "4\n",
      "Have 200 samples\n"
     ]
    },
    {
     "name": "stderr",
     "output_type": "stream",
     "text": [
      "/usr/local/lib/python3.6/site-packages/ipykernel_launcher.py:3: DeprecationWarning: `imresize` is deprecated!\n",
      "`imresize` is deprecated in SciPy 1.0.0, and will be removed in 1.2.0.\n",
      "Use ``skimage.transform.resize`` instead.\n",
      "  This is separate from the ipykernel package so we can avoid doing imports until\n"
     ]
    },
    {
     "name": "stdout",
     "output_type": "stream",
     "text": [
      "DONE\n"
     ]
    }
   ],
   "source": [
    "dataset, y, label_dict, ids = prepare_data(data, big_img_dict)"
   ]
  },
  {
   "cell_type": "code",
   "execution_count": 178,
   "metadata": {
    "collapsed": true,
    "scrolled": false
   },
   "outputs": [],
   "source": [
    "\n",
    "for img in dataset:\n",
    "    if img.shape != (150, 101, 3):\n",
    "        print('dff')\n"
   ]
  },
  {
   "cell_type": "code",
   "execution_count": 189,
   "metadata": {
    "collapsed": true
   },
   "outputs": [],
   "source": [
    "class_weights = {0:2, 1:7, 2:1, 3:3}"
   ]
  },
  {
   "cell_type": "code",
   "execution_count": 192,
   "metadata": {
    "collapsed": false
   },
   "outputs": [
    {
     "name": "stdout",
     "output_type": "stream",
     "text": [
      "Train on 180 samples, validate on 20 samples\n",
      "Epoch 1/5\n",
      "180/180 [==============================] - 14s 76ms/step - loss: 15.0041 - acc: 0.2528 - val_loss: 12.5744 - val_acc: 0.2250\n",
      "Epoch 2/5\n",
      "180/180 [==============================] - 13s 70ms/step - loss: 15.7046 - acc: 0.2097 - val_loss: 12.5744 - val_acc: 0.2250\n",
      "Epoch 3/5\n",
      "180/180 [==============================] - 12s 69ms/step - loss: 14.4048 - acc: 0.2750 - val_loss: 8.8056 - val_acc: 0.4000\n",
      "Epoch 4/5\n",
      "180/180 [==============================] - 13s 75ms/step - loss: 12.4219 - acc: 0.3931 - val_loss: 8.8056 - val_acc: 0.4000\n",
      "Epoch 5/5\n",
      "180/180 [==============================] - 15s 81ms/step - loss: 12.9367 - acc: 0.3764 - val_loss: 8.8056 - val_acc: 0.4000\n"
     ]
    }
   ],
   "source": [
    "model = Sequential()\n",
    "\n",
    "model.add(Conv2D(32, kernel_size=(3,3), activation='relu', input_shape=(150, 101, 3)))\n",
    "model.add(Conv2D(32, (3,3), activation='relu'))\n",
    "model.add(MaxPooling2D(pool_size=(2,2)))\n",
    "model.add(Dropout(0.25))\n",
    "\n",
    "model.add(Conv2D(64, (3,3), activation='relu'))\n",
    "model.add(Conv2D(64, (3,3), activation='relu'))\n",
    "model.add(MaxPooling2D((2,2)))\n",
    "model.add(Dropout(0.25))\n",
    "\n",
    "model.add(Flatten())\n",
    "model.add(Dense(128, activation='relu'))\n",
    "model.add(Dropout(0.5))\n",
    "model.add(Dense(4, activation='relu'))\n",
    "\n",
    "model.compile(loss='binary_crossentropy', optimizer=keras.optimizers.Adam(),  metrics=['accuracy'])\n",
    "\n",
    "n = 200\n",
    "history = model.fit(np.array(dataset[:n]), np.array(y[:n]), batch_size = 10, class_weight=class_weights, epochs = 5, verbose = 1, validation_split = 0.1)"
   ]
  },
  {
   "cell_type": "code",
   "execution_count": 181,
   "metadata": {
    "collapsed": true
   },
   "outputs": [],
   "source": []
  },
  {
   "cell_type": "code",
   "execution_count": 193,
   "metadata": {
    "collapsed": false
   },
   "outputs": [
    {
     "name": "stdout",
     "output_type": "stream",
     "text": [
      "dict_keys(['val_loss', 'val_acc', 'loss', 'acc'])\n"
     ]
    }
   ],
   "source": [
    "print(history.history.keys())"
   ]
  },
  {
   "cell_type": "code",
   "execution_count": 194,
   "metadata": {
    "collapsed": false
   },
   "outputs": [
    {
     "data": {
      "text/plain": [
       "[<matplotlib.lines.Line2D at 0x1261a7c88>]"
      ]
     },
     "execution_count": 194,
     "metadata": {},
     "output_type": "execute_result"
    },
    {
     "data": {
      "image/png": "[encoded data removed]",
      "text/plain": [
       "<Figure size 432x288 with 1 Axes>"
      ]
     },
     "metadata": {},
     "output_type": "display_data"
    }
   ],
   "source": [
    "plt.plot(history.history['val_loss'])"
   ]
  },
  {
   "cell_type": "code",
   "execution_count": 195,
   "metadata": {
    "collapsed": false
   },
   "outputs": [
    {
     "data": {
      "text/plain": [
       "[<matplotlib.lines.Line2D at 0x126252c88>]"
      ]
     },
     "execution_count": 195,
     "metadata": {},
     "output_type": "execute_result"
    },
    {
     "data": {
      "image/png": "[encoded data removed]",
      "text/plain": [
       "<Figure size 432x288 with 1 Axes>"
      ]
     },
     "metadata": {},
     "output_type": "display_data"
    }
   ],
   "source": [
    "plt.plot(history.history['loss'])"
   ]
  },
  {
   "cell_type": "code",
   "execution_count": 196,
   "metadata": {
    "collapsed": false
   },
   "outputs": [
    {
     "data": {
      "text/plain": [
       "[<matplotlib.lines.Line2D at 0x12e221828>]"
      ]
     },
     "execution_count": 196,
     "metadata": {},
     "output_type": "execute_result"
    },
    {
     "data": {
      "image/png": "[encoded data removed]",
      "text/plain": [
       "<Figure size 432x288 with 1 Axes>"
      ]
     },
     "metadata": {},
     "output_type": "display_data"
    }
   ],
   "source": [
    "plt.plot(history.history['acc'])"
   ]
  },
  {
   "cell_type": "code",
   "execution_count": 274,
   "metadata": {
    "collapsed": false
   },
   "outputs": [],
   "source": [
    "fff = pd.read_csv('final_movie_posters.csv', error_bad_lines = False, encoding='utf-8')"
   ]
  },
  {
   "cell_type": "code",
   "execution_count": 275,
   "metadata": {
    "collapsed": false
   },
   "outputs": [
    {
     "name": "stdout",
     "output_type": "stream",
     "text": [
      "4555\n"
     ]
    }
   ],
   "source": [
    "fff.head()\n",
    "print(len(fff))"
   ]
  },
  {
   "cell_type": "code",
   "execution_count": null,
   "metadata": {
    "collapsed": true
   },
   "outputs": [],
   "source": []
  }
 ],
 "metadata": {
  "anaconda-cloud": {},
  "kernelspec": {
   "display_name": "Python [default]",
   "language": "python",
   "name": "python3"
  },
  "language_info": {
   "codemirror_mode": {
    "name": "ipython",
    "version": 3
   },
   "file_extension": ".py",
   "mimetype": "text/x-python",
   "name": "python",
   "nbconvert_exporter": "python",
   "pygments_lexer": "ipython3",
   "version": "3.5.4"
  }
 },
 "nbformat": 4,
 "nbformat_minor": 2
}
