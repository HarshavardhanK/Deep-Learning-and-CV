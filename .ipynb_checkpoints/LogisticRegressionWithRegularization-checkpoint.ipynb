{
 "cells": [
  {
   "cell_type": "code",
   "execution_count": 3,
   "metadata": {},
   "outputs": [],
   "source": [
    "import numpy as np\n",
    "import pandas as pd\n",
    "import matplotlib.pyplot as plt\n",
    "\n",
    "%matplotlib inline"
   ]
  },
  {
   "cell_type": "code",
   "execution_count": 4,
   "metadata": {},
   "outputs": [],
   "source": [
    "def sigmoid(z):\n",
    "    return 1. / (1 + np.exp(-z))"
   ]
  },
  {
   "cell_type": "code",
   "execution_count": 5,
   "metadata": {},
   "outputs": [],
   "source": [
    "def hypothesis(x, theta):\n",
    "    return np.sigmoid(np.dot(x, theta))"
   ]
  },
  {
   "cell_type": "code",
   "execution_count": 128,
   "metadata": {},
   "outputs": [],
   "source": [
    "def costFunction(theta, x, y):\n",
    "    h = hypothesis(x, theta)\n",
    "    #print(h.shape)\n",
    "    m = len(x)\n",
    "    cost = -1/m * np.sum(np.multiply(np.log(h), y) + np.multiply(np.log(1-h), (1-y)))\n",
    "    #print(cost)\n",
    "    \n",
    "    return cost"
   ]
  },
  {
   "cell_type": "code",
   "execution_count": 129,
   "metadata": {},
   "outputs": [],
   "source": [
    "def gradientDescent(theta, x, y, alpha=0.005, reg=0):\n",
    "    \n",
    "    regularization = theta * reg\n",
    "    h = hypothesis(x, theta)\n",
    "    error = h - y\n",
    "    \n",
    "    update = ((alpha / len(x)) * (np.matmul(x.T, error)) + regularization)\n",
    "    \n",
    "    return theta - update"
   ]
  },
  {
   "cell_type": "code",
   "execution_count": 162,
   "metadata": {},
   "outputs": [],
   "source": [
    "def gradient(theta, X, Y, alpha, reg=0):\n",
    "    \n",
    "    regularization = np.square(theta) * reg / (2* len(X))\n",
    "\n",
    "    A = hypothesis(X, theta)\n",
    "\n",
    "    grad = theta - ((alpha/len(X)) * np.dot(X.T, Y - A) + regularization)\n",
    "\n",
    "    return grad"
   ]
  },
  {
   "cell_type": "code",
   "execution_count": 176,
   "metadata": {},
   "outputs": [],
   "source": [
    "def minimizeCost(theta, x, y, iters, alpha, reg=0):\n",
    "    cost = []\n",
    "    \n",
    "    for i in range(iters):\n",
    "        theta = gradientDescent(theta, x, y, alpha, reg)\n",
    "        cost.append(costFunction(theta, x, y))\n",
    "    \n",
    "    return theta, cost"
   ]
  },
  {
   "cell_type": "markdown",
   "metadata": {},
   "source": [
    "### Load and process data"
   ]
  },
  {
   "cell_type": "code",
   "execution_count": 173,
   "metadata": {},
   "outputs": [],
   "source": [
    "file = \"/Users/harshavardhank/Google Drive/Code/Python/Project Manas/AndrewNG/machine-learning-ex2/ex2/ex2data2.txt\""
   ]
  },
  {
   "cell_type": "code",
   "execution_count": 174,
   "metadata": {},
   "outputs": [
    {
     "data": {
      "text/html": [
       "<div>\n",
       "<style scoped>\n",
       "    .dataframe tbody tr th:only-of-type {\n",
       "        vertical-align: middle;\n",
       "    }\n",
       "\n",
       "    .dataframe tbody tr th {\n",
       "        vertical-align: top;\n",
       "    }\n",
       "\n",
       "    .dataframe thead th {\n",
       "        text-align: right;\n",
       "    }\n",
       "</style>\n",
       "<table border=\"1\" class=\"dataframe\">\n",
       "  <thead>\n",
       "    <tr style=\"text-align: right;\">\n",
       "      <th></th>\n",
       "      <th>MC T1</th>\n",
       "      <th>MC T2</th>\n",
       "      <th>Y</th>\n",
       "    </tr>\n",
       "  </thead>\n",
       "  <tbody>\n",
       "    <tr>\n",
       "      <th>0</th>\n",
       "      <td>-0.092742</td>\n",
       "      <td>0.68494</td>\n",
       "      <td>1</td>\n",
       "    </tr>\n",
       "    <tr>\n",
       "      <th>1</th>\n",
       "      <td>-0.213710</td>\n",
       "      <td>0.69225</td>\n",
       "      <td>1</td>\n",
       "    </tr>\n",
       "    <tr>\n",
       "      <th>2</th>\n",
       "      <td>-0.375000</td>\n",
       "      <td>0.50219</td>\n",
       "      <td>1</td>\n",
       "    </tr>\n",
       "    <tr>\n",
       "      <th>3</th>\n",
       "      <td>-0.513250</td>\n",
       "      <td>0.46564</td>\n",
       "      <td>1</td>\n",
       "    </tr>\n",
       "    <tr>\n",
       "      <th>4</th>\n",
       "      <td>-0.524770</td>\n",
       "      <td>0.20980</td>\n",
       "      <td>1</td>\n",
       "    </tr>\n",
       "  </tbody>\n",
       "</table>\n",
       "</div>"
      ],
      "text/plain": [
       "      MC T1    MC T2  Y\n",
       "0 -0.092742  0.68494  1\n",
       "1 -0.213710  0.69225  1\n",
       "2 -0.375000  0.50219  1\n",
       "3 -0.513250  0.46564  1\n",
       "4 -0.524770  0.20980  1"
      ]
     },
     "execution_count": 174,
     "metadata": {},
     "output_type": "execute_result"
    }
   ],
   "source": [
    "df = pd.read_csv(file)\n",
    "df.columns = ['MC T1', 'MC T2', 'Y']\n",
    "df.head()"
   ]
  },
  {
   "cell_type": "code",
   "execution_count": 134,
   "metadata": {},
   "outputs": [
    {
     "name": "stderr",
     "output_type": "stream",
     "text": [
      "/usr/local/lib/python3.6/site-packages/ipykernel_launcher.py:1: FutureWarning: Method .as_matrix will be removed in a future version. Use .values instead.\n",
      "  \"\"\"Entry point for launching an IPython kernel.\n",
      "/usr/local/lib/python3.6/site-packages/ipykernel_launcher.py:2: FutureWarning: Method .as_matrix will be removed in a future version. Use .values instead.\n",
      "  \n"
     ]
    }
   ],
   "source": [
    "x_data = df[df.columns[0:2]].as_matrix().reshape(len(df), 2)\n",
    "y_data = df['Y'].as_matrix().reshape(len(df), 1)"
   ]
  },
  {
   "cell_type": "code",
   "execution_count": 135,
   "metadata": {},
   "outputs": [
    {
     "data": {
      "text/plain": [
       "Int64Index([ 57,  58,  59,  60,  61,  62,  63,  64,  65,  66,  67,  68,  69,\n",
       "             70,  71,  72,  73,  74,  75,  76,  77,  78,  79,  80,  81,  82,\n",
       "             83,  84,  85,  86,  87,  88,  89,  90,  91,  92,  93,  94,  95,\n",
       "             96,  97,  98,  99, 100, 101, 102, 103, 104, 105, 106, 107, 108,\n",
       "            109, 110, 111, 112, 113, 114, 115, 116],\n",
       "           dtype='int64')"
      ]
     },
     "execution_count": 135,
     "metadata": {},
     "output_type": "execute_result"
    }
   ],
   "source": [
    "df.loc[df['Y'] == 0].index"
   ]
  },
  {
   "cell_type": "code",
   "execution_count": 136,
   "metadata": {},
   "outputs": [
    {
     "data": {
      "text/plain": [
       "MC T1    0.18376\n",
       "MC T2    0.93348\n",
       "Y        0.00000\n",
       "Name: 57, dtype: float64"
      ]
     },
     "execution_count": 136,
     "metadata": {},
     "output_type": "execute_result"
    }
   ],
   "source": [
    "df.loc[56]\n",
    "df.loc[57]"
   ]
  },
  {
   "cell_type": "code",
   "execution_count": 137,
   "metadata": {},
   "outputs": [
    {
     "data": {
      "image/png": "[encoded data removed]",
      "text/plain": [
       "<Figure size 432x288 with 1 Axes>"
      ]
     },
     "metadata": {},
     "output_type": "display_data"
    }
   ],
   "source": [
    "plt.scatter(df.iloc[0:57]['MC T1'], df.iloc[0:57]['MC T2'], color='green')\n",
    "plt.scatter(df.iloc[57:len(x_data)]['MC T1'], df.iloc[57:len(x_data)]['MC T2'], color='red')\n",
    "plt.show()\n",
    "#x_data[0]"
   ]
  },
  {
   "cell_type": "markdown",
   "metadata": {},
   "source": [
    "### Train the model"
   ]
  },
  {
   "cell_type": "code",
   "execution_count": 164,
   "metadata": {},
   "outputs": [],
   "source": [
    "from sklearn.preprocessing import PolynomialFeatures"
   ]
  },
  {
   "cell_type": "code",
   "execution_count": 165,
   "metadata": {},
   "outputs": [
    {
     "data": {
      "text/plain": [
       "(117, 28)"
      ]
     },
     "execution_count": 165,
     "metadata": {},
     "output_type": "execute_result"
    }
   ],
   "source": [
    "poly = PolynomialFeatures(6)\n",
    "ft_x_data = poly.fit_transform(x_data)\n",
    "ft_x_data.shape"
   ]
  },
  {
   "cell_type": "code",
   "execution_count": null,
   "metadata": {},
   "outputs": [],
   "source": []
  },
  {
   "cell_type": "code",
   "execution_count": 177,
   "metadata": {},
   "outputs": [],
   "source": [
    "theta = np.zeros((28,1))"
   ]
  },
  {
   "cell_type": "code",
   "execution_count": 210,
   "metadata": {},
   "outputs": [],
   "source": [
    "t, cost = minimizeCost(theta, ft_x_data, y_data, iters=50, alpha=0.05, reg=0.01)"
   ]
  },
  {
   "cell_type": "code",
   "execution_count": 211,
   "metadata": {},
   "outputs": [
    {
     "data": {
      "image/png": "[encoded data removed]",
      "text/plain": [
       "<Figure size 432x288 with 1 Axes>"
      ]
     },
     "metadata": {},
     "output_type": "display_data"
    }
   ],
   "source": [
    "#print(t)\n",
    "plt.plot(cost)\n",
    "plt.xlabel('Iterations')\n",
    "plt.ylabel('Cost')\n",
    "plt.title('Cost vs Iterations')\n",
    "plt.show()"
   ]
  },
  {
   "cell_type": "code",
   "execution_count": 182,
   "metadata": {},
   "outputs": [
    {
     "name": "stdout",
     "output_type": "stream",
     "text": [
      "(28, 1)\n",
      "(117, 28)\n"
     ]
    }
   ],
   "source": [
    "#print(cost)\n",
    "print(t.shape)\n",
    "print(ft_x_data.shape)"
   ]
  },
  {
   "cell_type": "code",
   "execution_count": 205,
   "metadata": {},
   "outputs": [],
   "source": [
    "y_boundary = np.dot(t.T, ft_x_data.T)"
   ]
  },
  {
   "cell_type": "code",
   "execution_count": 207,
   "metadata": {},
   "outputs": [
    {
     "name": "stdout",
     "output_type": "stream",
     "text": [
      "[[0.469426   0.46945916 0.47768329 0.4644935  0.44488736 0.44135859\n",
      "  0.42584606 0.42047795 0.41152163 0.40288241 0.39579676 0.3968999\n",
      "  0.37056172 0.42751851 0.45615149 0.47409203 0.42946415 0.4680354\n",
      "  0.46460948 0.44980367 0.43884904 0.41310182 0.40692787 0.41618602\n",
      "  0.40155234 0.40088208 0.36756509 0.48371574 0.44717898 0.34672733\n",
      "  0.43951105 0.47606633 0.48171652 0.46935309 0.44792294 0.4282217\n",
      "  0.43859969 0.44301785 0.42230277 0.4358875  0.42605873 0.40047828\n",
      "  0.43937125 0.41454515 0.42823553 0.37273699 0.47082925 0.42140827\n",
      "  0.43624304 0.47328882 0.48206272 0.48311008 0.47919063 0.46569464\n",
      "  0.45537626 0.448121   0.42760504 0.33690566 0.42114904 0.45390704\n",
      "  0.37786528 0.35504522 0.39673422 0.34598907 0.25021631 0.33330036\n",
      "  0.23416916 0.25617061 0.31130701 0.28529364 0.30836125 0.31002911\n",
      "  0.32322936 0.35558872 0.38910046 0.41169497 0.40253386 0.37234072\n",
      "  0.37292622 0.40387868 0.40975733 0.39223435 0.4115294  0.34635977\n",
      "  0.39456124 0.40302133 0.42036887 0.46076448 0.37761809 0.37718905\n",
      "  0.44638734 0.43358947 0.3635314  0.31443212 0.16368009 0.13796615\n",
      "  0.37274905 0.25073109 0.2714719  0.36122409 0.10532561 0.39782522\n",
      "  0.37715047 0.41752499 0.39514695 0.41673419 0.44013376 0.40185178\n",
      "  0.37394953 0.36243941 0.37260281 0.37707812 0.42523983 0.45350051\n",
      "  0.30442894 0.29918978 0.40790472]]\n"
     ]
    },
    {
     "data": {
      "image/png": "[encoded data removed]",
      "text/plain": [
       "<Figure size 432x288 with 1 Axes>"
      ]
     },
     "metadata": {},
     "output_type": "display_data"
    }
   ],
   "source": [
    "print(y_boundary)\n",
    "#plt.scatter(df.iloc[0:57]['MC T1'], df.iloc[0:57]['MC T2'], color='green')\n",
    "#plt.scatter(df.iloc[57:len(x_data)]['MC T1'], df.iloc[57:len(x_data)]['MC T2'], color='red')\n",
    "plt.plot(y_boundary)\n",
    "plt.show()"
   ]
  },
  {
   "cell_type": "markdown",
   "metadata": {},
   "source": [
    "### Make it plot"
   ]
  },
  {
   "cell_type": "code",
   "execution_count": null,
   "metadata": {},
   "outputs": [],
   "source": []
  }
 ],
 "metadata": {
  "kernelspec": {
   "display_name": "Python 3",
   "language": "python",
   "name": "python3"
  },
  "language_info": {
   "codemirror_mode": {
    "name": "ipython",
    "version": 3
   },
   "file_extension": ".py",
   "mimetype": "text/x-python",
   "name": "python",
   "nbconvert_exporter": "python",
   "pygments_lexer": "ipython3",
   "version": "3.6.3"
  }
 },
 "nbformat": 4,
 "nbformat_minor": 2
}
